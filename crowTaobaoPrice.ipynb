{
 "cells": [
  {
   "cell_type": "code",
   "execution_count": 16,
   "metadata": {},
   "outputs": [
    {
     "name": "stdout",
     "output_type": "stream",
     "text": [
      "序号  \t价格      \t商品名称            \n"
     ]
    }
   ],
   "source": [
    "#CrowTaobaoPrice.py\n",
    "import requests\n",
    "import re\n",
    " \n",
    "def getHTMLText(url):\n",
    "    try:\n",
    "        r = requests.get(url, timeout=30)\n",
    "        r.raise_for_status()\n",
    "        r.encoding = r.apparent_encoding\n",
    "        return r.text\n",
    "    except:\n",
    "        return \"\"\n",
    "     \n",
    "def parsePage(ilt, html):\n",
    "    try:\n",
    "        plt = re.findall(r'\\\"view_price\\\"\\:\\\"[\\d\\.]*\\\"',html)\n",
    "        tlt = re.findall(r'\\\"raw_title\\\"\\:\\\".*?\\\"',html)\n",
    "        for i in range(len(plt)):\n",
    "            price = eval(plt[i].split(':')[1])\n",
    "            title = eval(tlt[i].split(':')[1])\n",
    "            ilt.append([price , title])\n",
    "    except:\n",
    "        print(\"\")\n",
    " \n",
    "def printGoodsList(ilt):\n",
    "    tplt = \"{:4}\\t{:8}\\t{:16}\"\n",
    "    print(tplt.format(\"序号\", \"价格\", \"商品名称\"))\n",
    "    count = 0\n",
    "    for g in ilt:\n",
    "        count = count + 1\n",
    "        print(tplt.format(count, g[0], g[1]))\n",
    "         \n",
    "def main():\n",
    "    goods = '书包'\n",
    "    depth = 3\n",
    "    start_url = 'https://s.taobao.com/search?q=' + goods\n",
    "    infoList = []\n",
    "    for i in range(depth):\n",
    "        try:\n",
    "            url = start_url + '&s=' + str(44*i)\n",
    "            html = getHTMLText(url)\n",
    "            parsePage(infoList, html)\n",
    "        except:\n",
    "            continue\n",
    "    printGoodsList(infoList)\n",
    "     \n",
    "main()"
   ]
  },
  {
   "cell_type": "code",
   "execution_count": null,
   "metadata": {},
   "outputs": [],
   "source": []
  }
 ],
 "metadata": {
  "kernelspec": {
   "display_name": "Python 3",
   "language": "python",
   "name": "python3"
  },
  "language_info": {
   "codemirror_mode": {
    "name": "ipython",
    "version": 3
   },
   "file_extension": ".py",
   "mimetype": "text/x-python",
   "name": "python",
   "nbconvert_exporter": "python",
   "pygments_lexer": "ipython3",
   "version": "3.7.2"
  }
 },
 "nbformat": 4,
 "nbformat_minor": 2
}
